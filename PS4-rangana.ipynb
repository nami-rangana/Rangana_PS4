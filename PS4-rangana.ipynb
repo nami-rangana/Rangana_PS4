{
 "cells": [
  {
   "cell_type": "code",
   "execution_count": 1,
   "id": "d00aab2f-af60-41dd-a926-2210de426f51",
   "metadata": {},
   "outputs": [],
   "source": [
    "#import libraries\n",
    "import urllib.request, urllib.parse, urllib.error\n",
    "import json\n",
    "import pprint"
   ]
  },
  {
   "cell_type": "code",
   "execution_count": 2,
   "id": "6b4dc526-0c30-458c-a47a-2d69c3aea550",
   "metadata": {},
   "outputs": [],
   "source": [
    "#retriev data from API\n",
    "url1 = 'https://cdn.jsdelivr.net/gh/fawazahmed0/currency-api@1/latest/currencies/btc.json'\n",
    "url2 = 'https://cdn.jsdelivr.net/gh/fawazahmed0/currency-api@1/latest/currencies.json'\n",
    "uh1 = urllib.request.urlopen(url1)\n",
    "uh2 = urllib.request.urlopen(url2)\n",
    "data1 = uh1.read().decode()\n",
    "data2 = uh2.read().decode()"
   ]
  },
  {
   "cell_type": "code",
   "execution_count": 3,
   "id": "09871b91-266c-400c-8652-dc5e33fc8283",
   "metadata": {},
   "outputs": [],
   "source": [
    "try:\n",
    "    js1 = json.loads(data1) #has exchange rates \n",
    "    js2 = json.loads(data2) #has list of currencies (name)\n",
    "except:\n",
    "    js1 = js2 = None"
   ]
  },
  {
   "cell_type": "code",
   "execution_count": 4,
   "id": "4f787bb0-eea0-4c14-b74f-29087fdb3144",
   "metadata": {},
   "outputs": [
    {
     "name": "stdout",
     "output_type": "stream",
     "text": [
      "API last updated on : 2022-10-30\n"
     ]
    }
   ],
   "source": [
    "#print the date when API last ubdated\n",
    "print('API last updated on :', js1['date'])"
   ]
  },
  {
   "cell_type": "code",
   "execution_count": 5,
   "id": "b74549a1-c765-4686-85f0-a68c05c4fbc0",
   "metadata": {},
   "outputs": [],
   "source": [
    "#function to convert currency\n",
    "def convert(currency1, currency2):\n",
    "    c1 = js1['btc'].get(currency1) #exchange rate of currency1\n",
    "    c2 = js1['btc'].get(currency2) #exchange rate of currency2\n",
    "    \n",
    "    convert = float(c1)/float(c2)\n",
    "    print('1 ',currency2.upper(),' = ',round(convert,2),' ',currency1.upper())"
   ]
  },
  {
   "cell_type": "code",
   "execution_count": 6,
   "id": "b54fd69f-4cd4-47c4-993c-ce5a5634cee1",
   "metadata": {},
   "outputs": [],
   "source": [
    "#function to print list of currencies in API\n",
    "def curr_list():\n",
    "    for i,j in js2.items():\n",
    "        print('{:6s} {:35s}'.format(i,':  '+j))"
   ]
  },
  {
   "cell_type": "code",
   "execution_count": 7,
   "id": "3c880cfa-350a-45ce-85c8-b3fe9b118a8f",
   "metadata": {},
   "outputs": [
    {
     "name": "stdout",
     "output_type": "stream",
     "text": [
      "......................................\n",
      "currency1 -----> currency2\n",
      "Please use abbriviation(eg: usd, btc, dash, eur, etc, ...)\n"
     ]
    },
    {
     "name": "stdin",
     "output_type": "stream",
     "text": [
      "currency1:  usd\n",
      "currency2:  dash\n"
     ]
    },
    {
     "name": "stdout",
     "output_type": "stream",
     "text": [
      "1  DASH  =  42.67   USD\n"
     ]
    },
    {
     "name": "stdin",
     "output_type": "stream",
     "text": [
      "press 'L' to get list of currencies \n",
      "'C' to continue \n",
      "'Q' to quit\n",
      " c\n"
     ]
    },
    {
     "name": "stdout",
     "output_type": "stream",
     "text": [
      "......................................\n",
      "currency1 -----> currency2\n",
      "Please use abbriviation(eg: usd, btc, dash, eur, etc, ...)\n"
     ]
    },
    {
     "name": "stdin",
     "output_type": "stream",
     "text": [
      "currency1:  fg\n",
      "currency2:  gg\n"
     ]
    },
    {
     "name": "stdout",
     "output_type": "stream",
     "text": [
      "FG  or  GG  is not on API. Please check your input.\n"
     ]
    },
    {
     "name": "stdin",
     "output_type": "stream",
     "text": [
      "press 'L' to get list of currencies \n",
      "'C' to continue\n",
      "'Q' to quit\n",
      " ff\n"
     ]
    },
    {
     "name": "stdout",
     "output_type": "stream",
     "text": [
      "You entered invalid input. \n",
      "Restarting the program.\n",
      "......................................\n",
      "currency1 -----> currency2\n",
      "Please use abbriviation(eg: usd, btc, dash, eur, etc, ...)\n"
     ]
    },
    {
     "name": "stdin",
     "output_type": "stream",
     "text": [
      "currency1:  ss\n",
      "currency2:  ff\n"
     ]
    },
    {
     "name": "stdout",
     "output_type": "stream",
     "text": [
      "SS  or  FF  is not on API. Please check your input.\n"
     ]
    },
    {
     "name": "stdin",
     "output_type": "stream",
     "text": [
      "press 'L' to get list of currencies \n",
      "'C' to continue\n",
      "'Q' to quit\n",
      " l\n"
     ]
    },
    {
     "name": "stdout",
     "output_type": "stream",
     "text": [
      "1inch  :  1inch Network                   \n",
      "aave   :  Aave                            \n",
      "ada    :  Cardano                         \n",
      "aed    :  United Arab Emirates Dirham     \n",
      "afn    :  Afghan afghani                  \n",
      "algo   :  Algorand                        \n",
      "all    :  Albanian lek                    \n",
      "amd    :  Armenian dram                   \n",
      "amp    :  Synereo                         \n",
      "ang    :  Netherlands Antillean Guilder   \n",
      "aoa    :  Angolan kwanza                  \n",
      "ar     :  Arweave                         \n",
      "ars    :  Argentine peso                  \n",
      "atom   :  Atomic Coin                     \n",
      "aud    :  Australian dollar               \n",
      "avax   :  Avalanche                       \n",
      "awg    :  Aruban florin                   \n",
      "axs    :  AXS                             \n",
      "azn    :  Azerbaijani manat               \n",
      "bam    :  Bosnia-Herzegovina Convertible Mark\n",
      "bat    :  Basic Attention Token           \n",
      "bbd    :  Bajan dollar                    \n",
      "bch    :  Bitcoin Cash                    \n",
      "bdt    :  Bangladeshi taka                \n",
      "bgn    :  Bulgarian lev                   \n",
      "bhd    :  Bahraini dinar                  \n",
      "bif    :  Burundian Franc                 \n",
      "bmd    :  Bermudan dollar                 \n",
      "bnb    :  Binance Coin                    \n",
      "bnd    :  Brunei dollar                   \n",
      "bob    :  Bolivian boliviano              \n",
      "brl    :  Brazilian real                  \n",
      "bsd    :  Bahamian dollar                 \n",
      "bsv    :  Bitcoin SV                      \n",
      "btc    :  Bitcoin                         \n",
      "btcb   :  Bitcoin BEP2                    \n",
      "btg    :  Bitcoin Gold                    \n",
      "btn    :  Bhutan currency                 \n",
      "busd   :  Binance USD                     \n",
      "bwp    :  Botswanan Pula                  \n",
      "byn    :  New Belarusian Ruble            \n",
      "byr    :  Belarusian Ruble                \n",
      "bzd    :  Belize dollar                   \n",
      "cad    :  Canadian dollar                 \n",
      "cake   :  PancakeSwap                     \n",
      "cdf    :  Congolese franc                 \n",
      "celo   :  Celo                            \n",
      "chf    :  Swiss franc                     \n",
      "chz    :  Chiliz                          \n",
      "clf    :  Chilean Unit of Account (UF)    \n",
      "clp    :  Chilean peso                    \n",
      "cny    :  Chinese Yuan                    \n",
      "comp   :  Compound Coin                   \n",
      "cop    :  Colombian peso                  \n",
      "crc    :  Costa Rican Colón               \n",
      "cro    :  Crypto.com Chain Token          \n",
      "crv    :  Cravy                           \n",
      "cuc    :  Cuban peso                      \n",
      "cup    :  Cuban Peso                      \n",
      "cve    :  Cape Verdean escudo             \n",
      "cvx    :  Convex Finance                  \n",
      "czk    :  Czech koruna                    \n",
      "dai    :  Dai                             \n",
      "dash   :  Dash                            \n",
      "dcr    :  Decred                          \n",
      "dfi    :  DfiStarter                      \n",
      "djf    :  Djiboutian franc                \n",
      "dkk    :  Danish krone                    \n",
      "doge   :  Dogecoin                        \n",
      "dop    :  Dominican peso                  \n",
      "dot    :  Dotcoin                         \n",
      "dzd    :  Algerian dinar                  \n",
      "egld   :  Elrond                          \n",
      "egp    :  Egyptian pound                  \n",
      "enj    :  Enjin Coin                      \n",
      "eos    :  EOS                             \n",
      "ern    :  Eritrean nakfa                  \n",
      "etb    :  Ethiopian birr                  \n",
      "etc    :  Ethereum Classic                \n",
      "eth    :  Ether                           \n",
      "eur    :  Euro                            \n",
      "fei    :  Fei USD                         \n",
      "fil    :  FileCoin                        \n",
      "fjd    :  Fijian dollar                   \n",
      "fkp    :  Falkland Islands pound          \n",
      "flow   :  Flow                            \n",
      "frax   :  Frax                            \n",
      "ftm    :  Fantom                          \n",
      "ftt    :  FarmaTrust                      \n",
      "gala   :  Gala                            \n",
      "gbp    :  Pound sterling                  \n",
      "gel    :  Georgian lari                   \n",
      "ggp    :  GGPro                           \n",
      "ghs    :  Ghanaian cedi                   \n",
      "gip    :  Gibraltar pound                 \n",
      "gmd    :  Gambian dalasi                  \n",
      "gnf    :  Guinean franc                   \n",
      "gno    :  Gnosis                          \n",
      "grt    :  Golden Ratio Token              \n",
      "gt     :  GateToken                       \n",
      "gtq    :  Guatemalan quetzal              \n",
      "gyd    :  Guyanaese Dollar                \n",
      "hbar   :  Hedera                          \n",
      "hkd    :  Hong Kong dollar                \n",
      "hnl    :  Honduran lempira                \n",
      "hnt    :  Helium                          \n",
      "hot    :  Hydro Protocol                  \n",
      "hrk    :  Croatian kuna                   \n",
      "ht     :  Huobi Token                     \n",
      "htg    :  Haitian gourde                  \n",
      "huf    :  Hungarian forint                \n",
      "icp    :  Internet Computer               \n",
      "idr    :  Indonesian rupiah               \n",
      "ils    :  Israeli New Shekel              \n",
      "imp    :  CoinIMP                         \n",
      "inj    :  Injective                       \n",
      "inr    :  Indian rupee                    \n",
      "iqd    :  Iraqi dinar                     \n",
      "irr    :  Iranian rial                    \n",
      "isk    :  Icelandic króna                 \n",
      "jep    :  Jersey Pound                    \n",
      "jmd    :  Jamaican dollar                 \n",
      "jod    :  Jordanian dinar                 \n",
      "jpy    :  Japanese yen                    \n",
      "kava   :  Kava                            \n",
      "kcs    :  Kucoin                          \n",
      "kda    :  Kadena                          \n",
      "kes    :  Kenyan shilling                 \n",
      "kgs    :  Kyrgystani Som                  \n",
      "khr    :  Cambodian riel                  \n",
      "klay   :  Klaytn                          \n",
      "kmf    :  Comorian franc                  \n",
      "knc    :  Kyber Network                   \n",
      "kpw    :  North Korean won                \n",
      "krw    :  South Korean won                \n",
      "ksm    :  Kusama                          \n",
      "kwd    :  Kuwaiti dinar                   \n",
      "kyd    :  Cayman Islands dollar           \n",
      "kzt    :  Kazakhstani tenge               \n",
      "lak    :  Laotian Kip                     \n",
      "lbp    :  Lebanese pound                  \n",
      "leo    :  LEOcoin                         \n",
      "link   :  ChainLink                       \n",
      "lkr    :  Sri Lankan rupee                \n",
      "lrc    :  Loopring                        \n",
      "lrd    :  Liberian dollar                 \n",
      "lsl    :  Lesotho loti                    \n",
      "ltc    :  Litecoin                        \n",
      "ltl    :  Lithuanian litas                \n",
      "luna   :  Luna Coin                       \n",
      "lvl    :  Latvian lats                    \n",
      "lyd    :  Libyan dinar                    \n",
      "mad    :  Moroccan dirham                 \n",
      "mana   :  Decentraland                    \n",
      "matic  :  Polygon                         \n",
      "mdl    :  Moldovan leu                    \n",
      "mga    :  Malagasy ariary                 \n",
      "mina   :  Mina                            \n",
      "miota  :  IOTA                            \n",
      "mkd    :  Macedonian denar                \n",
      "mkr    :  Maker                           \n",
      "mmk    :  Myanmar Kyat                    \n",
      "mnt    :  Mongolian tugrik                \n",
      "mop    :  Macanese pataca                 \n",
      "mro    :  Mauritanian ouguiya             \n",
      "mur    :  Mauritian rupee                 \n",
      "mvr    :  Maldivian rufiyaa               \n",
      "mwk    :  Malawian kwacha                 \n",
      "mxn    :  Mexican peso                    \n",
      "myr    :  Malaysian ringgit               \n",
      "mzn    :  Mozambican Metical              \n",
      "nad    :  Namibian dollar                 \n",
      "near   :  NEAR Protocol                   \n",
      "neo    :  NEO                             \n",
      "nexo   :  NEXO                            \n",
      "ngn    :  Nigerian naira                  \n",
      "nio    :  Nicaraguan córdoba              \n",
      "nok    :  Norwegian krone                 \n",
      "npr    :  Nepalese rupee                  \n",
      "nzd    :  New Zealand dollar              \n",
      "okb    :  Okex                            \n",
      "omr    :  Omani rial                      \n",
      "one    :  Menlo One                       \n",
      "pab    :  Panamanian balboa               \n",
      "paxg   :  PAX Gold                        \n",
      "pen    :  Sol                             \n",
      "pgk    :  Papua New Guinean kina          \n",
      "php    :  Philippine peso                 \n",
      "pkr    :  Pakistani rupee                 \n",
      "pln    :  Poland złoty                    \n",
      "pyg    :  Paraguayan guarani              \n",
      "qar    :  Qatari Rial                     \n",
      "qnt    :  Quant                           \n",
      "qtum   :  QTUM                            \n",
      "ron    :  Romanian leu                    \n",
      "rsd    :  Serbian dinar                   \n",
      "rub    :  Russian ruble                   \n",
      "rune   :  THORChain (ERC20)               \n",
      "rwf    :  Rwandan Franc                   \n",
      "sand   :  BeachCoin                       \n",
      "sar    :  Saudi riyal                     \n",
      "sbd    :  Solomon Islands dollar          \n",
      "scr    :  Seychellois rupee               \n",
      "sdg    :  Sudanese pound                  \n",
      "sek    :  Swedish krona                   \n",
      "sgd    :  Singapore dollar                \n",
      "shib   :  Shiba Inu                       \n",
      "shp    :  Saint Helena pound              \n",
      "sll    :  Sierra Leonean leone            \n",
      "sol    :  Sola                            \n",
      "sos    :  Somali shilling                 \n",
      "srd    :  Surinamese dollar               \n",
      "std    :  São Tomé and Príncipe Dobra (pre-2018)\n",
      "stx    :  Stox                            \n",
      "svc    :  Salvadoran Colón                \n",
      "syp    :  Syrian pound                    \n",
      "szl    :  Swazi lilangeni                 \n",
      "thb    :  Thai baht                       \n",
      "theta  :  Theta                           \n",
      "tjs    :  Tajikistani somoni              \n",
      "tmt    :  Turkmenistani manat             \n",
      "tnd    :  Tunisian dinar                  \n",
      "top    :  Tongan Paʻanga                  \n",
      "trx    :  TRON                            \n",
      "try    :  Turkish lira                    \n",
      "ttd    :  Trinidad & Tobago Dollar        \n",
      "ttt    :  Tap Project                     \n",
      "tusd   :  True USD                        \n",
      "twd    :  New Taiwan dollar               \n",
      "tzs    :  Tanzanian shilling              \n",
      "uah    :  Ukrainian hryvnia               \n",
      "ugx    :  Ugandan shilling                \n",
      "uni    :  Universe                        \n",
      "usd    :  United States dollar            \n",
      "usdc   :  USD Coin                        \n",
      "usdp   :  USDP Stablecoin                 \n",
      "usdt   :  Tether                          \n",
      "uyu    :  Uruguayan peso                  \n",
      "uzs    :  Uzbekistani som                 \n",
      "vet    :  Vechain                         \n",
      "vnd    :  Vietnamese dong                 \n",
      "vuv    :  Vanuatu vatu                    \n",
      "waves  :  Waves                           \n",
      "wbtc   :  Wrapped Bitcoin                 \n",
      "wemix  :  WEMIX                           \n",
      "wst    :  Samoan tala                     \n",
      "xaf    :  Central African CFA franc       \n",
      "xag    :  Silver Ounce                    \n",
      "xau    :  XauCoin                         \n",
      "xcd    :  East Caribbean dollar           \n",
      "xdc    :  XDC Network                     \n",
      "xdr    :  Special Drawing Rights          \n",
      "xec    :  Eternal Coin                    \n",
      "xem    :  NEM                             \n",
      "xlm    :  Stellar                         \n",
      "xmr    :  Monero                          \n",
      "xof    :  West African CFA franc          \n",
      "xpf    :  CFP franc                       \n",
      "xrp    :  XRP                             \n",
      "xtz    :  Tezos                           \n",
      "yer    :  Yemeni rial                     \n",
      "zar    :  South African rand              \n",
      "zec    :  ZCash                           \n",
      "zil    :  Zilliqa                         \n",
      "zmk    :  Zambian kwacha                  \n",
      "zmw    :  Zambian Kwacha                  \n",
      "zwl    :  Zimbabwean Dollar               \n",
      "......................................\n",
      "currency1 -----> currency2\n",
      "Please use abbriviation(eg: usd, btc, dash, eur, etc, ...)\n"
     ]
    },
    {
     "name": "stdin",
     "output_type": "stream",
     "text": [
      "currency1:  ff\n",
      "currency2:  hh\n"
     ]
    },
    {
     "name": "stdout",
     "output_type": "stream",
     "text": [
      "FF  or  HH  is not on API. Please check your input.\n"
     ]
    },
    {
     "name": "stdin",
     "output_type": "stream",
     "text": [
      "press 'L' to get list of currencies \n",
      "'C' to continue\n",
      "'Q' to quit\n",
      " q\n"
     ]
    }
   ],
   "source": [
    "while True:\n",
    "    print('......................................')\n",
    "    print('currency1 -----> currency2')\n",
    "    print('Please use abbriviation(eg: usd, btc, dash, eur, etc, ...)')\n",
    "    currency1 = input('currency1: ')\n",
    "    currency2 = input('currency2: ') \n",
    "    c1 = js1['btc'].get(currency1) #exchange rate of currency1\n",
    "    c2 = js1['btc'].get(currency2) #exchange rate of currency2\n",
    "    \n",
    "    \n",
    "    #following conditions handle invalid inputs\n",
    "    #if user enterd a currency which is not in API,\n",
    "    #user can choose either to quit, continue or to get a list of currencies that work.\n",
    "    \n",
    "    if (c1==None)|(c2==None):\n",
    "        print(currency1.upper(),' or ',currency2.upper() ,' is not on API. Please check your input.')\n",
    "        inp = input('press \\'L\\' to get list of currencies \\n\\'C\\' to continue\\n\\'Q\\' to quit\\n')\n",
    "        if (inp=='q') | (inp=='Q'):\n",
    "            break\n",
    "        elif (inp=='L') | (inp=='l'):\n",
    "            curr_list()\n",
    "        elif (inp=='c') | (inp=='C'):\n",
    "            continue\n",
    "        else:\n",
    "            print('You entered invalid input. \\nRestarting the program.')\n",
    "        \n",
    "    else:\n",
    "        convert(currency1,currency2)\n",
    "        inp = input('press \\'L\\' to get list of currencies \\n\\'C\\' to continue \\n\\'Q\\' to quit\\n')\n",
    "        if (inp=='q') | (inp=='Q'):\n",
    "            break\n",
    "        elif (inp=='L') | (inp=='l'):\n",
    "            curr_list()\n",
    "        elif (inp=='c') | (inp=='C'):\n",
    "            continue\n",
    "        else:\n",
    "            print('You entered invalid input. \\nRestarting the program.')"
   ]
  },
  {
   "cell_type": "code",
   "execution_count": null,
   "id": "20ff410a-6350-4f21-83b0-e811ee0b17d5",
   "metadata": {},
   "outputs": [],
   "source": []
  }
 ],
 "metadata": {
  "kernelspec": {
   "display_name": "UFRC Python-3.10",
   "language": "python",
   "name": "python3-3.10-ufrc"
  },
  "language_info": {
   "codemirror_mode": {
    "name": "ipython",
    "version": 3
   },
   "file_extension": ".py",
   "mimetype": "text/x-python",
   "name": "python",
   "nbconvert_exporter": "python",
   "pygments_lexer": "ipython3",
   "version": "3.10.5"
  }
 },
 "nbformat": 4,
 "nbformat_minor": 5
}
