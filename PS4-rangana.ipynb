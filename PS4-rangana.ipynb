{
 "cells": [
  {
   "cell_type": "code",
   "execution_count": 1,
   "id": "d00aab2f-af60-41dd-a926-2210de426f51",
   "metadata": {},
   "outputs": [],
   "source": [
    "#import libraries\n",
    "import urllib.request, urllib.parse, urllib.error\n",
    "import json\n",
    "import pprint"
   ]
  },
  {
   "cell_type": "code",
   "execution_count": 2,
   "id": "6b4dc526-0c30-458c-a47a-2d69c3aea550",
   "metadata": {},
   "outputs": [],
   "source": [
    "#retriev data from API\n",
    "url1 = 'https://cdn.jsdelivr.net/gh/fawazahmed0/currency-api@1/latest/currencies/btc.json'\n",
    "url2 = 'https://cdn.jsdelivr.net/gh/fawazahmed0/currency-api@1/latest/currencies.json'\n",
    "uh1 = urllib.request.urlopen(url1)\n",
    "uh2 = urllib.request.urlopen(url2)\n",
    "data1 = uh1.read().decode()\n",
    "data2 = uh2.read().decode()"
   ]
  },
  {
   "cell_type": "code",
   "execution_count": 3,
   "id": "09871b91-266c-400c-8652-dc5e33fc8283",
   "metadata": {},
   "outputs": [],
   "source": [
    "try:\n",
    "    js1 = json.loads(data1) #has exchange rates \n",
    "    js2 = json.loads(data2) #has list of currencies (name)\n",
    "except:\n",
    "    js1 = js2 = None"
   ]
  },
  {
   "cell_type": "code",
   "execution_count": 4,
   "id": "4f787bb0-eea0-4c14-b74f-29087fdb3144",
   "metadata": {},
   "outputs": [
    {
     "name": "stdout",
     "output_type": "stream",
     "text": [
      "API last updated on : 2022-10-30\n"
     ]
    }
   ],
   "source": [
    "#print the date when API last ubdated\n",
    "print('API last updated on :', js1['date'])"
   ]
  },
  {
   "cell_type": "code",
   "execution_count": 5,
   "id": "b74549a1-c765-4686-85f0-a68c05c4fbc0",
   "metadata": {},
   "outputs": [],
   "source": [
    "#function to convert currency\n",
    "def convert(currency1, currency2):\n",
    "    c1 = js1['btc'].get(currency1) #exchange rate of currency1\n",
    "    c2 = js1['btc'].get(currency2) #exchange rate of currency2\n",
    "    \n",
    "    convert = float(c1)/float(c2)\n",
    "    print('1 ',currency2.upper(),' = ',round(convert,2),' ',currency1.upper())"
   ]
  },
  {
   "cell_type": "code",
   "execution_count": 6,
   "id": "b54fd69f-4cd4-47c4-993c-ce5a5634cee1",
   "metadata": {},
   "outputs": [],
   "source": [
    "#function to print list of currencies in API\n",
    "def curr_list():\n",
    "    for i,j in js2.items():\n",
    "        print('{:6s} {:35s}'.format(i,':  '+j))"
   ]
  },
  {
   "cell_type": "code",
   "execution_count": 8,
   "id": "3c880cfa-350a-45ce-85c8-b3fe9b118a8f",
   "metadata": {},
   "outputs": [
    {
     "name": "stdout",
     "output_type": "stream",
     "text": [
      "......................................\n",
      "currency1 -----> currency2\n",
      "Please use abbriviation(eg: usd, btc, dash, eur, etc, ...)\n"
     ]
    },
    {
     "name": "stdin",
     "output_type": "stream",
     "text": [
      "currency1:  usd\n",
      "currency2:  btc\n"
     ]
    },
    {
     "name": "stdout",
     "output_type": "stream",
     "text": [
      "1  BTC  =  20725.1   USD\n"
     ]
    },
    {
     "name": "stdin",
     "output_type": "stream",
     "text": [
      "press 'L' to get list of currencies \n",
      "'C' to continue \n",
      "'Q' to quit\n",
      " q\n"
     ]
    }
   ],
   "source": [
    "while True:\n",
    "    print('......................................')\n",
    "    print('currency1 -----> currency2')\n",
    "    print('Please use abbriviation(eg: usd, btc, dash, eur, etc, ...)')\n",
    "    currency1 = input('currency1: ')\n",
    "    currency2 = input('currency2: ') \n",
    "    c1 = js1['btc'].get(currency1) #exchange rate of currency1\n",
    "    c2 = js1['btc'].get(currency2) #exchange rate of currency2\n",
    "    \n",
    "    \n",
    "    #following conditions handle invalid inputs\n",
    "    #if user enterd a currency which is not in API,\n",
    "    #user can choose either to quit, continue or to get a list of currencies that work.\n",
    "    \n",
    "    if (c1==None)|(c2==None):\n",
    "        print(currency1.upper(),' or ',currency2.upper() ,' is not on API. Please check your input.')\n",
    "        inp = input('press \\'L\\' to get list of currencies \\n\\'C\\' to continue\\n\\'Q\\' to quit\\n')\n",
    "        if (inp=='q') | (inp=='Q'):\n",
    "            break\n",
    "        elif (inp=='L') | (inp=='l'):\n",
    "            curr_list()\n",
    "        elif (inp=='c') | (inp=='C'):\n",
    "            continue\n",
    "        else:\n",
    "            print('You entered invalid input. \\nRestarting the program.')\n",
    "        \n",
    "    else:\n",
    "        convert(currency1,currency2)\n",
    "        inp = input('press \\'L\\' to get list of currencies \\n\\'C\\' to continue \\n\\'Q\\' to quit\\n')\n",
    "        if (inp=='q') | (inp=='Q'):\n",
    "            break\n",
    "        elif (inp=='L') | (inp=='l'):\n",
    "            curr_list()\n",
    "        elif (inp=='c') | (inp=='C'):\n",
    "            continue\n",
    "        else:\n",
    "            print('You entered invalid input. \\nRestarting the program.')"
   ]
  },
  {
   "cell_type": "code",
   "execution_count": null,
   "id": "20ff410a-6350-4f21-83b0-e811ee0b17d5",
   "metadata": {},
   "outputs": [],
   "source": []
  }
 ],
 "metadata": {
  "kernelspec": {
   "display_name": "UFRC Python-3.10",
   "language": "python",
   "name": "python3-3.10-ufrc"
  },
  "language_info": {
   "codemirror_mode": {
    "name": "ipython",
    "version": 3
   },
   "file_extension": ".py",
   "mimetype": "text/x-python",
   "name": "python",
   "nbconvert_exporter": "python",
   "pygments_lexer": "ipython3",
   "version": "3.10.5"
  }
 },
 "nbformat": 4,
 "nbformat_minor": 5
}
